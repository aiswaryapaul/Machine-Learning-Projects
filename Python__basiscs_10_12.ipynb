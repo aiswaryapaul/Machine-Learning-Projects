{
  "nbformat": 4,
  "nbformat_minor": 0,
  "metadata": {
    "colab": {
      "provenance": [],
      "include_colab_link": true
    },
    "kernelspec": {
      "name": "python3",
      "display_name": "Python 3"
    },
    "language_info": {
      "name": "python"
    }
  },
  "cells": [
    {
      "cell_type": "markdown",
      "metadata": {
        "id": "view-in-github",
        "colab_type": "text"
      },
      "source": [
        "<a href=\"https://colab.research.google.com/github/aiswaryapaul/Machine-Learning-Projects/blob/aiswarya/Python__basiscs_10_12.ipynb\" target=\"_parent\"><img src=\"https://colab.research.google.com/assets/colab-badge.svg\" alt=\"Open In Colab\"/></a>"
      ]
    },
    {
      "cell_type": "code",
      "execution_count": null,
      "metadata": {
        "id": "FM1lqSziMt0r"
      },
      "outputs": [],
      "source": [
        "#why python?\n",
        "#simple syntax\n",
        "#open source language- large pool of community\n",
        "#inbuilt libraries\n",
        "#platform independent"
      ]
    },
    {
      "cell_type": "code",
      "source": [
        "#python - 1991\n",
        "#Guido Van Rossum"
      ],
      "metadata": {
        "id": "qG6nhktRVuy5"
      },
      "execution_count": null,
      "outputs": []
    },
    {
      "cell_type": "code",
      "source": [
        "#where can be used?\n",
        "#web development\n",
        "#data science\n",
        "#system scripting"
      ],
      "metadata": {
        "id": "TUv11vSZXwNF"
      },
      "execution_count": null,
      "outputs": []
    },
    {
      "cell_type": "code",
      "source": [
        "#IT\n",
        "#Finance\n",
        "#Data science\n",
        "#healthcare"
      ],
      "metadata": {
        "id": "3Zr6HtL4YJwV"
      },
      "execution_count": null,
      "outputs": []
    },
    {
      "cell_type": "code",
      "source": [
        "#High level language:\n",
        "syntax of the language is closer to human language\n",
        "ex: python\n",
        "\n",
        "#low level language:\n",
        "syntax of language is closer to machine language(binary):\n",
        "ex: c"
      ],
      "metadata": {
        "id": "fvZs078CYsCb"
      },
      "execution_count": null,
      "outputs": []
    },
    {
      "cell_type": "code",
      "source": [
        "#code - binary - code\n",
        "#compiler:\n",
        " it will take all the line of code and then it translate to machine language\n",
        "ex:java\n",
        "\n",
        "#interpreter:\n",
        "it will execute code line by line\n",
        "ex: python\n",
        "--easy to debug\n",
        "compiler >(faster) interpreter"
      ],
      "metadata": {
        "id": "VtQ4qKh5ZdQb"
      },
      "execution_count": null,
      "outputs": []
    },
    {
      "cell_type": "code",
      "source": [
        "compiler:process-cpu-input-cpu-output\n",
        "interpreter:process1-"
      ],
      "metadata": {
        "id": "gwhO1Pe9aqVA"
      },
      "execution_count": null,
      "outputs": []
    },
    {
      "cell_type": "code",
      "source": [
        "code1\n",
        "code2\n",
        "code3\n",
        "code4"
      ],
      "metadata": {
        "id": "J7PGdRnKblNE"
      },
      "execution_count": null,
      "outputs": []
    },
    {
      "cell_type": "code",
      "source": [
        "#print()\n",
        "print(1231)\n",
        "print(\"Hello\")\n",
        "print(Hi)\n",
        "print(212)"
      ],
      "metadata": {
        "colab": {
          "base_uri": "https://localhost:8080/",
          "height": 234
        },
        "id": "nw8akMkWcAjG",
        "outputId": "8d022519-1095-454c-d977-8dddd6eb9132"
      },
      "execution_count": null,
      "outputs": [
        {
          "output_type": "stream",
          "name": "stdout",
          "text": [
            "1231\n",
            "Hello\n"
          ]
        },
        {
          "output_type": "error",
          "ename": "NameError",
          "evalue": "name 'Hi' is not defined",
          "traceback": [
            "\u001b[0;31m---------------------------------------------------------------------------\u001b[0m",
            "\u001b[0;31mNameError\u001b[0m                                 Traceback (most recent call last)",
            "\u001b[0;32m<ipython-input-2-afb937a4e9b1>\u001b[0m in \u001b[0;36m<cell line: 4>\u001b[0;34m()\u001b[0m\n\u001b[1;32m      2\u001b[0m \u001b[0mprint\u001b[0m\u001b[0;34m(\u001b[0m\u001b[0;36m1231\u001b[0m\u001b[0;34m)\u001b[0m\u001b[0;34m\u001b[0m\u001b[0;34m\u001b[0m\u001b[0m\n\u001b[1;32m      3\u001b[0m \u001b[0mprint\u001b[0m\u001b[0;34m(\u001b[0m\u001b[0;34m\"Hello\"\u001b[0m\u001b[0;34m)\u001b[0m\u001b[0;34m\u001b[0m\u001b[0;34m\u001b[0m\u001b[0m\n\u001b[0;32m----> 4\u001b[0;31m \u001b[0mprint\u001b[0m\u001b[0;34m(\u001b[0m\u001b[0mHi\u001b[0m\u001b[0;34m)\u001b[0m\u001b[0;34m\u001b[0m\u001b[0;34m\u001b[0m\u001b[0m\n\u001b[0m\u001b[1;32m      5\u001b[0m \u001b[0mprint\u001b[0m\u001b[0;34m(\u001b[0m\u001b[0;36m212\u001b[0m\u001b[0;34m)\u001b[0m\u001b[0;34m\u001b[0m\u001b[0;34m\u001b[0m\u001b[0m\n",
            "\u001b[0;31mNameError\u001b[0m: name 'Hi' is not defined"
          ]
        }
      ]
    },
    {
      "cell_type": "code",
      "source": [
        "#syntax\n",
        "#variable\n",
        "#Datatypes\n",
        "#string\n",
        "#numeric\n",
        "#operators\n",
        "#list\n",
        "#tuple\n",
        "#dictionary\n",
        "#conditional statements\n",
        "#loops\n",
        "#functions"
      ],
      "metadata": {
        "id": "X8u1WZo0cKWy"
      },
      "execution_count": null,
      "outputs": []
    },
    {
      "cell_type": "code",
      "source": [
        "#syntax: #rules to write the code\n",
        "#indentation\n",
        "print(123)\n"
      ],
      "metadata": {
        "colab": {
          "base_uri": "https://localhost:8080/"
        },
        "id": "ciCf-UQddHLN",
        "outputId": "5befcaf0-797a-4b60-a2aa-7d13d91e8783"
      },
      "execution_count": null,
      "outputs": [
        {
          "output_type": "stream",
          "name": "stdout",
          "text": [
            "123\n",
            "0\n",
            "1\n",
            "2\n",
            "3\n",
            "4\n",
            "5\n",
            "6\n",
            "7\n",
            "8\n",
            "9\n"
          ]
        }
      ]
    },
    {
      "cell_type": "code",
      "source": [
        "#variable: it a keyword where we store the data in the memory\n",
        "print(123)\n",
        "x=123\n",
        "print(x)\n",
        "#rules:\n",
        "1- all alphanumeric(A-Z,0-9) characters are allowed and only '_' is allowed\n",
        "2- cannot initalize a variable with a numeric character\n",
        "3- Casesensitive(A,a)\n",
        "#str\n",
        "#Str"
      ],
      "metadata": {
        "colab": {
          "base_uri": "https://localhost:8080/"
        },
        "id": "5WY4FF9Ee9ND",
        "outputId": "8248d63f-235d-4dfc-8261-4dddece5591d"
      },
      "execution_count": null,
      "outputs": [
        {
          "output_type": "stream",
          "name": "stdout",
          "text": [
            "123\n",
            "123\n"
          ]
        }
      ]
    },
    {
      "cell_type": "code",
      "source": [
        "Str3=12\n",
        "Str3"
      ],
      "metadata": {
        "colab": {
          "base_uri": "https://localhost:8080/"
        },
        "id": "HbIHiNwAezEH",
        "outputId": "3ab2ae27-33dd-4b36-81ff-9e44a051922a"
      },
      "execution_count": null,
      "outputs": [
        {
          "output_type": "execute_result",
          "data": {
            "text/plain": [
              "12"
            ]
          },
          "metadata": {},
          "execution_count": 10
        }
      ]
    },
    {
      "cell_type": "code",
      "source": [
        "2Str=14\n",
        "2Str"
      ],
      "metadata": {
        "colab": {
          "base_uri": "https://localhost:8080/",
          "height": 109
        },
        "id": "gQj62hsldwou",
        "outputId": "e546588d-ab67-4a33-ca62-1104811f298a"
      },
      "execution_count": null,
      "outputs": [
        {
          "output_type": "error",
          "ename": "SyntaxError",
          "evalue": "invalid decimal literal (<ipython-input-13-d6fb52e2d09e>, line 1)",
          "traceback": [
            "\u001b[0;36m  File \u001b[0;32m\"<ipython-input-13-d6fb52e2d09e>\"\u001b[0;36m, line \u001b[0;32m1\u001b[0m\n\u001b[0;31m    2Str=14\u001b[0m\n\u001b[0m    ^\u001b[0m\n\u001b[0;31mSyntaxError\u001b[0m\u001b[0;31m:\u001b[0m invalid decimal literal\n"
          ]
        }
      ]
    },
    {
      "cell_type": "code",
      "source": [
        "1 xyz__\n",
        "2 __xyz1_\n",
        "3 2xyz -wrong\n",
        "4 xy/z_ wrong\n",
        "5 xy_1\n",
        "\n",
        "1,2,5 are write"
      ],
      "metadata": {
        "id": "DTygm8qLgNMe"
      },
      "execution_count": null,
      "outputs": []
    }
  ]
}